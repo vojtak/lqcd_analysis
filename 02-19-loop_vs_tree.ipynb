{
 "metadata": {
  "name": ""
 },
 "nbformat": 3,
 "nbformat_minor": 0,
 "worksheets": [
  {
   "cells": [
    {
     "cell_type": "heading",
     "level": 2,
     "metadata": {},
     "source": [
      "before we start "
     ]
    },
    {
     "cell_type": "heading",
     "level": 6,
     "metadata": {},
     "source": [
      "import of important overall stuff"
     ]
    },
    {
     "cell_type": "markdown",
     "metadata": {},
     "source": [
      "it is necessary to import matplotlib namespace and allow figures to be inline=in this notebook"
     ]
    },
    {
     "cell_type": "code",
     "collapsed": false,
     "input": [
      "%pylab inline"
     ],
     "language": "python",
     "metadata": {},
     "outputs": [
      {
       "output_type": "stream",
       "stream": "stdout",
       "text": [
        "Populating the interactive namespace from numpy and matplotlib\n"
       ]
      },
      {
       "output_type": "stream",
       "stream": "stderr",
       "text": [
        "WARNING: pylab import has clobbered these variables: ['cosh', 'sinh', 'tan', 'sin', 'isnan', 'random', 'colors', 'cos', 'tanh', 'sqrt', 'log', 'log10', 'pi', 'polar', 'exp', 'isinf', 'e']\n",
        "`%pylab --no-import-all` prevents importing * from pylab and numpy\n"
       ]
      }
     ],
     "prompt_number": 247
    },
    {
     "cell_type": "heading",
     "level": 1,
     "metadata": {},
     "source": [
      "2 point functon analysis"
     ]
    },
    {
     "cell_type": "heading",
     "level": 2,
     "metadata": {},
     "source": [
      "import of modules"
     ]
    },
    {
     "cell_type": "code",
     "collapsed": false,
     "input": [
      "from function_modules.functions_IO import *\n",
      "from function_modules.functions_Physics import *\n",
      "from function_modules.functions_StatisticalAnalysis import *"
     ],
     "language": "python",
     "metadata": {},
     "outputs": [],
     "prompt_number": 248
    },
    {
     "cell_type": "code",
     "collapsed": false,
     "input": [
      "import pandas as pd   # pandas\n",
      "import re             # regular expression \n",
      "from cmath import *   # cmath\n",
      "import random         # random number\n",
      "\n",
      "from subprocess import check_output  # calling bash"
     ],
     "language": "python",
     "metadata": {},
     "outputs": [],
     "prompt_number": 249
    },
    {
     "cell_type": "heading",
     "level": 2,
     "metadata": {},
     "source": [
      "set parameters of the analysis "
     ]
    },
    {
     "cell_type": "heading",
     "level": 4,
     "metadata": {},
     "source": [
      "path to folder with results"
     ]
    },
    {
     "cell_type": "code",
     "collapsed": false,
     "input": [
      "#path_results  =\"../Z_VOJTA_results/02-19_2p_corrs_loop-tree/\"\n",
      "path_results  =\"../X_VOJTA_code/run_x64/results/\""
     ],
     "language": "python",
     "metadata": {},
     "outputs": [],
     "prompt_number": 250
    },
    {
     "cell_type": "heading",
     "level": 4,
     "metadata": {},
     "source": [
      "type of measurement (aka measurement folder name)"
     ]
    },
    {
     "cell_type": "code",
     "collapsed": false,
     "input": [
      "measurements=[\"nn_01_correlators_two_hardons\",\n",
      "              \"nn_04_correlators_two_hardons\",\n",
      "              \"nn_10_correlators_two_hardons\",\n",
      "              \"nn_20_correlators_two_hardons\"]\n",
      "measurements=[measurements[0]]"
     ],
     "language": "python",
     "metadata": {},
     "outputs": [],
     "prompt_number": 251
    },
    {
     "cell_type": "heading",
     "level": 4,
     "metadata": {},
     "source": [
      "particle(s)  (in list)"
     ]
    },
    {
     "cell_type": "code",
     "collapsed": false,
     "input": [
      "tree = [\"pion-sigma_tree.\"]\n",
      "tree_NONOISE = [\"pion-sigma_tree_NONOISE.\"]\n",
      "loop = [\"pion-sigma_loop.\"]\n",
      "loop_TEST_1 = [\"pion-sigma_loop_TEST_1_07.\",\"pion-sigma_loop_TEST_1_08.\",\"pion-sigma_loop_TEST_1_09.\",\"pion-sigma_loop_TEST_1_10.\",\n",
      "               \"pion-sigma_loop_TEST_1_13.\",\"pion-sigma_loop_TEST_1_14.\",\"pion-sigma_loop_TEST_1_15.\",\"pion-sigma_loop_TEST_1_16.\"]\n",
      "loop_TEST_2 = [\"pion-sigma_loop_TEST_2_07.\",\"pion-sigma_loop_TEST_2_08.\",\"pion-sigma_loop_TEST_2_09.\",\"pion-sigma_loop_TEST_2_10.\",\n",
      "               \"pion-sigma_loop_TEST_2_13.\",\"pion-sigma_loop_TEST_2_14.\",\"pion-sigma_loop_TEST_2_15.\",\"pion-sigma_loop_TEST_2_16.\"]\n",
      "loop_TEST_3 = [\"pion-sigma_loop_TEST_3_07.\",\"pion-sigma_loop_TEST_3_08.\",\"pion-sigma_loop_TEST_3_09.\",\"pion-sigma_loop_TEST_3_10.\",\n",
      "               \"pion-sigma_loop_TEST_3_13.\",\"pion-sigma_loop_TEST_3_14.\",\"pion-sigma_loop_TEST_3_15.\",\"pion-sigma_loop_TEST_3_16.\"]"
     ],
     "language": "python",
     "metadata": {},
     "outputs": [],
     "prompt_number": 252
    },
    {
     "cell_type": "heading",
     "level": 2,
     "metadata": {},
     "source": [
      "extracting data"
     ]
    },
    {
     "cell_type": "code",
     "collapsed": true,
     "input": [
      "propagators_loop_TEST_1 = [extract_propagators(path_results,meas,loop_TEST_1 ) for meas in measurements ]\n",
      "propagators_loop_TEST_2 = [extract_propagators(path_results,meas,loop_TEST_2 ) for meas in measurements ]\n",
      "propagators_loop_TEST_3 = [extract_propagators(path_results,meas,loop_TEST_3 ) for meas in measurements ]\n",
      "propagators_tree = [extract_propagators(path_results,meas,tree ) for meas in measurements ]\n",
      "propagators_tree_NONOISE = [extract_propagators(path_results,meas,tree_NONOISE ) for meas in measurements[0:1] ]\n",
      "propagators_loop = [extract_propagators(path_results,meas,loop ) for meas in measurements ]"
     ],
     "language": "python",
     "metadata": {},
     "outputs": [
      {
       "output_type": "stream",
       "stream": "stdout",
       "text": [
        "ERROR, particle pion-sigma_loop_TEST_1_09. not in RC12x24-B1800K014090C1600-A-00210\n",
        "       continue without pion-sigma_loop_TEST_1_09.\n",
        "ERROR, particle pion-sigma_loop_TEST_1_10. not in RC12x24-B1800K014090C1600-A-00210\n",
        "       continue without pion-sigma_loop_TEST_1_10.\n",
        "ERROR, particle pion-sigma_loop_TEST_1_13. not in RC12x24-B1800K014090C1600-A-00210\n",
        "       continue without pion-sigma_loop_TEST_1_13.\n",
        "ERROR, particle"
       ]
      },
      {
       "output_type": "stream",
       "stream": "stdout",
       "text": [
        " pion-sigma_loop_TEST_1_14. not in RC12x24-B1800K014090C1600-A-00210\n",
        "       continue without pion-sigma_loop_TEST_1_14.\n",
        "ERROR, particle pion-sigma_loop_TEST_1_15. not in RC12x24-B1800K014090C1600-A-00210\n",
        "       continue without pion-sigma_loop_TEST_1_15.\n",
        "ERROR, particle"
       ]
      },
      {
       "output_type": "stream",
       "stream": "stdout",
       "text": [
        " pion-sigma_loop_TEST_1_16. not in RC12x24-B1800K014090C1600-A-00210\n",
        "       continue without pion-sigma_loop_TEST_1_16.\n",
        "ERROR, particle"
       ]
      },
      {
       "output_type": "stream",
       "stream": "stdout",
       "text": [
        " pion-sigma_loop_TEST_2_07. not in RC12x24-B1800K014090C1600-A-00210\n",
        "       continue without pion-sigma_loop_TEST_2_07.\n",
        "ERROR, particle pion-sigma_loop_TEST_2_08. not in RC12x24-B1800K014090C1600-A-00210\n",
        "       continue without pion-sigma_loop_TEST_2_08.\n",
        "ERROR, particle"
       ]
      },
      {
       "output_type": "stream",
       "stream": "stdout",
       "text": [
        " pion-sigma_loop_TEST_2_09. not in RC12x24-B1800K014090C1600-A-00210\n",
        "       continue without pion-sigma_loop_TEST_2_09.\n",
        "ERROR, particle pion-sigma_loop_TEST_2_10. not in RC12x24-B1800K014090C1600-A-00210\n",
        "       continue without pion-sigma_loop_TEST_2_10.\n",
        "ERROR, particle"
       ]
      },
      {
       "output_type": "stream",
       "stream": "stdout",
       "text": [
        " pion-sigma_loop_TEST_2_13. not in RC12x24-B1800K014090C1600-A-00210\n",
        "       continue without pion-sigma_loop_TEST_2_13.\n",
        "ERROR, particle pion-sigma_loop_TEST_2_14. not in RC12x24-B1800K014090C1600-A-00210\n",
        "       continue without pion-sigma_loop_TEST_2_14.\n",
        "ERROR, particle"
       ]
      },
      {
       "output_type": "stream",
       "stream": "stdout",
       "text": [
        " pion-sigma_loop_TEST_2_15. not in RC12x24-B1800K014090C1600-A-00210\n",
        "       continue without pion-sigma_loop_TEST_2_15.\n",
        "ERROR, particle pion-sigma_loop_TEST_2_16. not in RC12x24-B1800K014090C1600-A-00210\n",
        "       continue without pion-sigma_loop_TEST_2_16.\n",
        "ERROR, particle"
       ]
      },
      {
       "output_type": "stream",
       "stream": "stdout",
       "text": [
        " pion-sigma_loop_TEST_3_07. not in RC12x24-B1800K014090C1600-A-00210\n",
        "       continue without pion-sigma_loop_TEST_3_07.\n",
        "ERROR, particle pion-sigma_loop_TEST_3_08. not in RC12x24-B1800K014090C1600-A-00210\n",
        "       continue without pion-sigma_loop_TEST_3_08.\n",
        "ERROR, particle"
       ]
      },
      {
       "output_type": "stream",
       "stream": "stdout",
       "text": [
        " pion-sigma_loop_TEST_3_09. not in RC12x24-B1800K014090C1600-A-00210\n",
        "       continue without pion-sigma_loop_TEST_3_09.\n",
        "ERROR, particle pion-sigma_loop_TEST_3_10. not in RC12x24-B1800K014090C1600-A-00210\n",
        "       continue without pion-sigma_loop_TEST_3_10.\n",
        "ERROR, particle pion-sigma_loop_TEST_3_13. not in RC12x24-B1800K014090C1600-A-00210\n",
        "       continue without pion-sigma_loop_TEST_3_13.\n",
        "ERROR, particle"
       ]
      },
      {
       "output_type": "stream",
       "stream": "stdout",
       "text": [
        " pion-sigma_loop_TEST_3_14. not in RC12x24-B1800K014090C1600-A-00210\n",
        "       continue without pion-sigma_loop_TEST_3_14.\n",
        "ERROR, particle pion-sigma_loop_TEST_3_15. not in RC12x24-B1800K014090C1600-A-00210\n",
        "       continue without pion-sigma_loop_TEST_3_15.\n",
        "ERROR, particle pion-sigma_loop_TEST_3_16. not in RC12x24-B1800K014090C1600-A-00210\n",
        "       continue without pion-sigma_loop_TEST_3_16.\n",
        "ERROR, particle"
       ]
      },
      {
       "output_type": "stream",
       "stream": "stdout",
       "text": [
        " pion-sigma_tree. not in RC12x24-B1800K014090C1600-A-00210\n",
        "       continue without pion-sigma_tree.\n",
        "ERROR, particle"
       ]
      },
      {
       "output_type": "stream",
       "stream": "stdout",
       "text": [
        " pion-sigma_tree_NONOISE. not in RC12x24-B1800K014090C1600-A-00210\n",
        "       continue without pion-sigma_tree_NONOISE.\n",
        "ERROR, particle"
       ]
      },
      {
       "output_type": "stream",
       "stream": "stdout",
       "text": [
        " pion-sigma_loop. not in RC12x24-B1800K014090C1600-A-00210\n",
        "       continue without pion-sigma_loop.\n"
       ]
      }
     ],
     "prompt_number": 253
    },
    {
     "cell_type": "heading",
     "level": 2,
     "metadata": {},
     "source": [
      "plot of differences in propagator values"
     ]
    },
    {
     "cell_type": "code",
     "collapsed": false,
     "input": [
      "noises=[\"$1$\",\"$2$\",\"$3$\",\"$4$\",\"$5$\",\"$6$\",\"$7$\",\"$8$\"]\n",
      "colors=[\"red\",\"green\",\"blue\",\"purple\"]\n",
      "numn=[1,4,10]\n",
      "NUM_N=len(propagators_loop_TEST_1)\n",
      "\n",
      "fig, ax = subplots(figsize=(20,NUM_N*5))\n",
      "\n",
      "\n",
      "\n",
      "for ii,prop in enumerate(propagators_loop_TEST_1):\n",
      "    axt1=subplot(NUM_N,3,2*ii+1)\n",
      "    axt1.set_yscale('log')\n",
      "    title('full dirac',fontsize=24, color='green')\n",
      "    ylabel('# of noises ='+str(numn[ii]),fontsize=24, color='green')\n",
      "    for jj in range(len(prop[0])):\n",
      "        to_plot=[abs(x.real) for x in prop[0][jj][0][ts]]\n",
      "        scatter(range(len(to_plot)),to_plot,color=colors[jj],marker=noises[jj],s=40)\n",
      "        plot(range(len(to_plot)),to_plot,color=colors[jj])\n",
      "\n",
      "for ii,prop in enumerate(propagators_loop_TEST_2):\n",
      "    axt2=subplot(NUM_N,3,2*ii+2)\n",
      "    axt2.set_yscale('log')\n",
      "    title('non rel forward',fontsize=24, color='green')\n",
      "    for jj in range(len(prop[0])):\n",
      "        to_plot=[abs(x.real) for x in prop[0][jj][0][0]]\n",
      "        scatter(range(len(to_plot)),to_plot,color=colors[jj],marker=noises[jj],s=40)\n",
      "        plot(range(len(to_plot)),to_plot,color=colors[jj])\n",
      "\n",
      "for ii,prop in enumerate(propagators_loop_TEST_3):\n",
      "    axt3=subplot(NUM_N,3,2*ii+3)\n",
      "    axt3.set_yscale('log')\n",
      "    title('non rel backward',fontsize=24, color='green')\n",
      "    for jj in range(len(prop[0])):\n",
      "        to_plot=[abs(x.real) for x in prop[0][jj][0][0]]\n",
      "        scatter(range(len(to_plot)),to_plot,color=colors[jj],marker=noises[jj],s=40)\n",
      "        plot(range(len(to_plot)),to_plot,color=colors[jj])\n"
     ],
     "language": "python",
     "metadata": {},
     "outputs": [
      {
       "metadata": {},
       "output_type": "display_data",
       "png": "[encoded data removed]",
       "text": [
        "<matplotlib.figure.Figure at 0x7f843a2a9a50>"
       ]
      }
     ],
     "prompt_number": 257
    },
    {
     "cell_type": "code",
     "collapsed": false,
     "input": [
      "noises=[\"$1$\",\"$2$\",\"$3$\",\"$4$\",\"$5$\",\"$6$\",\"$7$\",\"$8$\"]\n",
      "colors=[\"red\",\"green\",\"blue\",\"purple\",\"red\",\"green\",\"blue\",\"purple\"]\n",
      "numn=[1,4,10]\n",
      "NUM_N=len(propagators_loop_TEST_1)\n",
      "\n",
      "fig, ax = subplots(figsize=(20,NUM_N*5))\n",
      "\n",
      "     \n",
      "\n",
      "\n",
      "for ii,prop in enumerate(propagators_loop_TEST_1):\n",
      "    subplot(NUM_N,3,2*ii+1) \n",
      "    \n",
      "    title('full Dirac',fontsize=24, color='green')\n",
      "    xlim([-2,25])\n",
      "    ylim([2,10])\n",
      "    ylabel('# of noises ='+str(numn[ii]),fontsize=24, color='green')\n",
      "    for jj in range(len(prop[0])):\n",
      "\n",
      "        scatter(range(24),effective_mass(prop[0][jj][0][0]),color=colors[jj],marker=noises[jj],s=40)\n",
      "\n",
      "for ii,prop in enumerate(propagators_loop_TEST_2):\n",
      "    subplot(NUM_N,3,2*ii+2) \n",
      "    \n",
      "    title('nonrel forward',fontsize=24, color='green')\n",
      "    xlim([-2,25])\n",
      "    ylim([2,10])\n",
      "    for jj in range(len(prop[0])):\n",
      "\n",
      "        scatter(range(24),effective_mass(prop[0][jj][0][0]),color=colors[jj],marker=noises[jj],s=40)\n",
      "\n",
      "for ii,prop in enumerate(propagators_loop_TEST_3):\n",
      "    subplot(NUM_N,3,2*ii+3) \n",
      "    \n",
      "    title('nonrel backward',fontsize=24, color='green')\n",
      "    xlim([-2,25])\n",
      "    ylim([2,10])\n",
      "    for jj in range(len(prop[0])):\n",
      "\n",
      "        scatter(range(24),effective_mass(prop[0][jj][0][0]),color=colors[jj],marker=noises[jj],s=40)\n"
     ],
     "language": "python",
     "metadata": {},
     "outputs": [
      {
       "metadata": {},
       "output_type": "display_data",
       "png": "[encoded data removed]",
       "text": [
        "<matplotlib.figure.Figure at 0x7f843a08f3d0>"
       ]
      }
     ],
     "prompt_number": 258
    },
    {
     "cell_type": "code",
     "collapsed": false,
     "input": [
      "fig, ax = subplots(figsize=(10,7))\n",
      "noises=[\"$1$\",\"$4$\",\"$10$\",\"$20$\"]\n",
      "colors=[\"red\",\"red\",\"green\",\"green\"]\n",
      "sizes=[200,200,300,300]\n",
      "\n",
      "axt=subplot(1,1,1)\n",
      "axt.set_yscale('log')\n",
      "ylabel('tree and loop part',fontsize=24, color='green')\n",
      "\n",
      "\n",
      "for ii,prop in enumerate(propagators_tree):\n",
      "    for ts in range(len(prop[0][0][0])):\n",
      "        to_plot=[abs(x.real) for x in prop[0][0][0][ts]]\n",
      "        scatter(range(len(to_plot)),to_plot,color='r')\n",
      "        plot(range(len(to_plot)),to_plot,'r')\n",
      "\n",
      "for ii,prop in enumerate(propagators_tree_NONOISE):\n",
      "    for ts in range(len(prop[0][0][0])):\n",
      "        to_plot=[abs(x.real)/100 for x in prop[0][0][0][ts]]\n",
      "        scatter(range(len(to_plot)),to_plot,color='g')\n",
      "        plot(range(len(to_plot)),to_plot,'g--')\n",
      "\n",
      "for ii,prop in enumerate(propagators_loop):\n",
      "    for ts in range(len(prop[0][0][0])):\n",
      "        to_plot=[abs(x.real) for x in prop[0][0][0][ts]]\n",
      "        scatter(range(len(to_plot)),to_plot,color='b')\n",
      "        plot(range(len(to_plot)),to_plot,'b')\n"
     ],
     "language": "python",
     "metadata": {},
     "outputs": [
      {
       "ename": "IndexError",
       "evalue": "list index out of range",
       "output_type": "pyerr",
       "traceback": [
        "\u001b[0;31m---------------------------------------------------------------------------\u001b[0m\n\u001b[0;31mIndexError\u001b[0m                                Traceback (most recent call last)",
        "\u001b[0;32m<ipython-input-256-260121351f87>\u001b[0m in \u001b[0;36m<module>\u001b[0;34m()\u001b[0m\n\u001b[1;32m     10\u001b[0m \u001b[0;34m\u001b[0m\u001b[0m\n\u001b[1;32m     11\u001b[0m \u001b[0;32mfor\u001b[0m \u001b[0mii\u001b[0m\u001b[0;34m,\u001b[0m\u001b[0mprop\u001b[0m \u001b[0;32min\u001b[0m \u001b[0menumerate\u001b[0m\u001b[0;34m(\u001b[0m\u001b[0mpropagators_tree\u001b[0m\u001b[0;34m)\u001b[0m\u001b[0;34m:\u001b[0m\u001b[0;34m\u001b[0m\u001b[0m\n\u001b[0;32m---> 12\u001b[0;31m     \u001b[0;32mfor\u001b[0m \u001b[0mts\u001b[0m \u001b[0;32min\u001b[0m \u001b[0mrange\u001b[0m\u001b[0;34m(\u001b[0m\u001b[0mlen\u001b[0m\u001b[0;34m(\u001b[0m\u001b[0mprop\u001b[0m\u001b[0;34m[\u001b[0m\u001b[0;36m0\u001b[0m\u001b[0;34m]\u001b[0m\u001b[0;34m[\u001b[0m\u001b[0;36m0\u001b[0m\u001b[0;34m]\u001b[0m\u001b[0;34m[\u001b[0m\u001b[0;36m0\u001b[0m\u001b[0;34m]\u001b[0m\u001b[0;34m)\u001b[0m\u001b[0;34m)\u001b[0m\u001b[0;34m:\u001b[0m\u001b[0;34m\u001b[0m\u001b[0m\n\u001b[0m\u001b[1;32m     13\u001b[0m         \u001b[0mto_plot\u001b[0m\u001b[0;34m=\u001b[0m\u001b[0;34m[\u001b[0m\u001b[0mabs\u001b[0m\u001b[0;34m(\u001b[0m\u001b[0mx\u001b[0m\u001b[0;34m.\u001b[0m\u001b[0mreal\u001b[0m\u001b[0;34m)\u001b[0m \u001b[0;32mfor\u001b[0m \u001b[0mx\u001b[0m \u001b[0;32min\u001b[0m \u001b[0mprop\u001b[0m\u001b[0;34m[\u001b[0m\u001b[0;36m0\u001b[0m\u001b[0;34m]\u001b[0m\u001b[0;34m[\u001b[0m\u001b[0;36m0\u001b[0m\u001b[0;34m]\u001b[0m\u001b[0;34m[\u001b[0m\u001b[0;36m0\u001b[0m\u001b[0;34m]\u001b[0m\u001b[0;34m[\u001b[0m\u001b[0mts\u001b[0m\u001b[0;34m]\u001b[0m\u001b[0;34m]\u001b[0m\u001b[0;34m\u001b[0m\u001b[0m\n\u001b[1;32m     14\u001b[0m         \u001b[0mscatter\u001b[0m\u001b[0;34m(\u001b[0m\u001b[0mrange\u001b[0m\u001b[0;34m(\u001b[0m\u001b[0mlen\u001b[0m\u001b[0;34m(\u001b[0m\u001b[0mto_plot\u001b[0m\u001b[0;34m)\u001b[0m\u001b[0;34m)\u001b[0m\u001b[0;34m,\u001b[0m\u001b[0mto_plot\u001b[0m\u001b[0;34m,\u001b[0m\u001b[0mcolor\u001b[0m\u001b[0;34m=\u001b[0m\u001b[0;34m'r'\u001b[0m\u001b[0;34m)\u001b[0m\u001b[0;34m\u001b[0m\u001b[0m\n",
        "\u001b[0;31mIndexError\u001b[0m: list index out of range"
       ]
      },
      {
       "metadata": {},
       "output_type": "display_data",
       "png": "[encoded data removed]",
       "text": [
        "<matplotlib.figure.Figure at 0x7f8439bd6510>"
       ]
      }
     ],
     "prompt_number": 256
    },
    {
     "cell_type": "code",
     "collapsed": false,
     "input": [
      "noises=[\"$1$\",\"$4$\",\"$10$\",\"$20$\",\"$50$\"]\n",
      "colors=[\"red\",\"red\",\"green\",\"green\",\"green\"]\n",
      "sizes=[120,120,200,200,200]\n",
      "TIMES=len(propagators_loop_TEST[0][0][0][0])\n",
      "\n",
      "fig, ax = subplots(figsize=(15,TIMES*5))\n",
      "\n",
      "for t_slice in range(TIMES):\n",
      "        \n",
      "    \n",
      "    subplot(TIMES,4,2*t_slice+1)\n",
      "    \n",
      "    title(\"loop\")   \n",
      "    xlim([-2,25])\n",
      "    ylim([2,10])\n",
      "\n",
      "    for ii,prop in enumerate(propagators_loop_TEST):\n",
      "\n",
      "        scatter(range(24),effective_mass(prop[0][0][0][t_slice]),color=colors[ii],marker=noises[ii],s=sizes[ii])\n",
      "    subplot(TIMES,4,2*t_slice+3)\n",
      "            \n",
      "    title(\"tree\")\n",
      "    xlim([-2,25])\n",
      "    ylim([2,10])\n",
      "\n",
      "    for ii,prop in enumerate(propagators_tree):\n",
      "        scatter(range(24),effective_mass(prop[0][0][0][t_slice]),color=colors[ii],marker=noises[ii],s=sizes[ii])\n",
      "\n",
      "    subplot(TIMES,4,2*t_slice+4)\n",
      "            \n",
      "    title(\"tree NONOISE\")\n",
      "    xlim([-2,25])\n",
      "    ylim([2,10])\n",
      "\n",
      "    for ii,prop in enumerate(propagators_tree_NONOISE):\n",
      "\n",
      "        scatter(range(24),effective_mass(prop[0][0][0][t_slice]),color='g',s=50)\n",
      "\n",
      "    subplot(TIMES,4,2*t_slice+1)\n",
      "    \n",
      "    title(\"loop\")   \n",
      "    xlim([-2,25])\n",
      "    ylim([2,10])\n",
      "\n",
      "    for ii,prop in enumerate(propagators_loop):\n",
      "\n",
      "        scatter(range(24),effective_mass(prop[0][0][0][t_slice]),color=colors[ii],marker=noises[ii],s=sizes[ii])\n"
     ],
     "language": "python",
     "metadata": {},
     "outputs": []
    },
    {
     "cell_type": "code",
     "collapsed": false,
     "input": [
      "fig, ax = subplots(figsize=(30,20))\n",
      "noises=[\"$1$\",\"$4$\",\"$10$\",\"$20$\"]\n",
      "colors=[\"red\",\"red\",\"green\",\"green\"]\n",
      "sizes=[200,200,300,300]\n",
      "\n",
      "conf=0\n",
      "t_slice=0\n",
      "\n",
      "\n",
      "for t_s in range(24):\n",
      "\n",
      "    axt=subplot(2,24,t_s+1)\n",
      "    axt.set_yscale('log')\n",
      "\n",
      "    if(t_s==0):\n",
      "        ylabel('tree part',fontsize=24, color='green')\n",
      "    \n",
      "    for ii,prop in enumerate(propagators_tree):\n",
      "\n",
      "        to_plot=[abs(x.real) for x in prop[0][0][conf][t_slice]][t_s:t_s+1]\n",
      "        scatter(range(len(to_plot)),to_plot,color=colors[ii],marker=noises[ii],s=sizes[ii])\n",
      "\n",
      "    for prop in propagators_tree_NONOISE:\n",
      " \n",
      "        to_plot=[abs(x) for x in prop[0][0][conf][t_slice]][t_s:t_s+1]\n",
      "        scatter(range(len(to_plot)),to_plot, s=200)\n",
      "\n",
      "    ylim([0.5*to_plot[0],2*to_plot[0]])\n",
      "    xticks([])\n",
      "    title(\"       t=\"+str(t_s),fontsize=14, color='green')\n",
      "    \n",
      "    axl=subplot(2,24,t_s+25)\n",
      "    axl.set_yscale('log')\n",
      "\n",
      "    if(t_s==0):\n",
      "        ylabel('loop part',fontsize=24, color='green')\n",
      "\n",
      "    for ii,prop in enumerate(propagators_loop):\n",
      "\n",
      "        to_plot=[abs(x.imag) for x in prop[0][0][conf][t_slice]][t_s:t_s+1]\n",
      "        scatter(range(len(to_plot)),to_plot,color=colors[ii],marker=noises[ii],s=sizes[ii])\n",
      "    \n",
      "    ylim([0.01*to_plot[0],100*to_plot[0]])\n",
      "    xticks([])\n",
      "    "
     ],
     "language": "python",
     "metadata": {},
     "outputs": []
    },
    {
     "cell_type": "heading",
     "level": 2,
     "metadata": {},
     "source": [
      "plot of differences in effective mass"
     ]
    },
    {
     "cell_type": "heading",
     "level": 2,
     "metadata": {},
     "source": [
      "complexity scaling"
     ]
    },
    {
     "cell_type": "code",
     "collapsed": false,
     "input": [
      "noise_nums=[1,4,10,20,50]\n",
      "times=[69.086691672,188.4999999963,403.4500000044,741.6999999911,1831.8166666757]"
     ],
     "language": "python",
     "metadata": {},
     "outputs": []
    },
    {
     "cell_type": "code",
     "collapsed": false,
     "input": [
      "lin_reg=linalg.lstsq([[n,1] for n in noise_nums],times)\n",
      "print lin_reg[0]"
     ],
     "language": "python",
     "metadata": {},
     "outputs": []
    },
    {
     "cell_type": "code",
     "collapsed": false,
     "input": [
      "fig, ax = subplots(figsize=(10,6))\n",
      "\n",
      "subplot(1,1,1)\n",
      "title(\"computing time in minutes\",fontsize=24, color='green')\n",
      "ylim([0,2000])\n",
      "xlim([-5,60])\n",
      "\n",
      "ax.set_xticks([1,4,10,20,50])\n",
      "\n",
      "plot([-100,100],[lin_reg[0][1]-100*lin_reg[0][0],lin_reg[0][1]+100*lin_reg[0][0]],linestyle='--',color='blue',lw=4)\n",
      "scatter(noise_nums,times, color='red',s=1500,marker='*')\n"
     ],
     "language": "python",
     "metadata": {},
     "outputs": []
    },
    {
     "cell_type": "code",
     "collapsed": false,
     "input": [],
     "language": "python",
     "metadata": {},
     "outputs": []
    }
   ],
   "metadata": {}
  }
 ]
}